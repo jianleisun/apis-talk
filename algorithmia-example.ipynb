{
 "cells": [
  {
   "cell_type": "code",
   "execution_count": 2,
   "metadata": {
    "collapsed": false
   },
   "outputs": [],
   "source": [
    "import Algorithmia"
   ]
  },
  {
   "cell_type": "code",
   "execution_count": 5,
   "metadata": {
    "collapsed": true
   },
   "outputs": [],
   "source": [
    "f = open('algorithmia.key', 'r')\n",
    "key = f.read()\n",
    "f.close()\n",
    "key = key.replace('\\n', '')"
   ]
  },
  {
   "cell_type": "code",
   "execution_count": 11,
   "metadata": {
    "collapsed": false
   },
   "outputs": [],
   "source": [
    "input = {\n",
    "  \"src\":\"This weekend, I am flying to Dallas and presenting a talk on API trends.\",\n",
    "  \"format\":\"tree\", \n",
    "  \"language\":\"english\"\n",
    "}\n",
    "\n",
    "client = Algorithmia.client(key)\n",
    "algo = client.algo('deeplearning/Parsey/1.0.2')\n",
    "result = algo.pipe(input)"
   ]
  },
  {
   "cell_type": "code",
   "execution_count": 15,
   "metadata": {
    "collapsed": false
   },
   "outputs": [
    {
     "name": "stdout",
     "output_type": "stream",
     "text": [
      "\"Input: This weekend, I am flying to Dallas and presenting a talk on API trends.\n",
      "Parse:\n",
      "weekend, NOUN++NN ROOT\n",
      " +-- This DET++DT det\n",
      " +-- flying VERB++VBG acl:relcl\n",
      "     +-- I PRON++PRP nsubj\n",
      "     +-- am AUX++VBP aux\n",
      "     +-- Dallas PROPN++NNP nmod\n",
      "     |   +-- to ADP++IN case\n",
      "     +-- and CONJ++CC cc\n",
      "     +-- presenting VERB++VBG conj\n",
      "         +-- talk NOUN++NN dobj\n",
      "             +-- a DET++DT det\n",
      "             +-- trends. NOUN++NN nmod\n",
      "                 +-- on ADP++IN case\n",
      "                 +-- API NOUN++NN compound\n",
      "\"\n"
     ]
    }
   ],
   "source": [
    "print(result.result.replace('\\\\n', '\\n'))"
   ]
  }
 ],
 "metadata": {
  "kernelspec": {
   "display_name": "Python 2",
   "language": "python",
   "name": "python2"
  },
  "language_info": {
   "codemirror_mode": {
    "name": "ipython",
    "version": 2
   },
   "file_extension": ".py",
   "mimetype": "text/x-python",
   "name": "python",
   "nbconvert_exporter": "python",
   "pygments_lexer": "ipython2",
   "version": "2.7.12"
  }
 },
 "nbformat": 4,
 "nbformat_minor": 1
}
